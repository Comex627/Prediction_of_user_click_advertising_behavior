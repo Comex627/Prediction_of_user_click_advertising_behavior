{
 "cells": [
  {
   "cell_type": "code",
   "execution_count": 1,
   "metadata": {},
   "outputs": [],
   "source": [
    "import numpy as np \n",
    "import pandas as pd \n",
    "import matplotlib.pyplot as plt\n",
    "import seaborn as sns\n",
    "import lightgbm as lgb\n",
    "import xgboost as xgb\n",
    "from sklearn.model_selection import KFold, StratifiedKFold\n",
    "from sklearn.metrics import accuracy_score, roc_auc_score\n",
    "from tqdm import tqdm\n",
    "from tqdm import tqdm_notebook\n",
    "import warnings\n",
    "from sklearn.preprocessing import LabelEncoder\n",
    "import gc\n",
    "import os\n",
    "import time\n",
    "import sys\n",
    "import datetime\n",
    "import matplotlib.pyplot as plt\n",
    "import seaborn as sns\n",
    "from sklearn.metrics import mean_squared_error\n",
    "from sklearn.metrics import mean_absolute_error\n",
    "warnings.simplefilter(action='ignore', category=FutureWarning)\n",
    "warnings.filterwarnings('ignore')\n",
    "from sklearn import metrics\n",
    "from sklearn.metrics import roc_auc_score\n",
    "\n",
    "plt.style.use('seaborn')\n",
    "sns.set(font_scale=1)\n",
    "pd.set_option('display.max_columns', 500)"
   ]
  },
  {
   "cell_type": "code",
   "execution_count": 2,
   "metadata": {},
   "outputs": [],
   "source": [
    "train = pd.read_csv('train.csv')\n",
    "label = pd.read_csv('train_label.csv')\n",
    "test = pd.read_csv('test.csv')\n",
    "sub = pd.read_csv('submission.csv')"
   ]
  },
  {
   "cell_type": "markdown",
   "metadata": {},
   "source": [
    "# 数据探索"
   ]
  },
  {
   "cell_type": "code",
   "execution_count": 3,
   "metadata": {},
   "outputs": [],
   "source": [
    "df_source = train.merge(label,on='ID',how='left')"
   ]
  },
  {
   "cell_type": "markdown",
   "metadata": {},
   "source": [
    "# labelencoder"
   ]
  },
  {
   "cell_type": "code",
   "execution_count": 4,
   "metadata": {},
   "outputs": [],
   "source": [
    "test['label'] = -1"
   ]
  },
  {
   "cell_type": "code",
   "execution_count": 5,
   "metadata": {},
   "outputs": [],
   "source": [
    "train = train.merge(label,on='ID',how='left')\n",
    "data = pd.concat([train, test])"
   ]
  },
  {
   "cell_type": "code",
   "execution_count": 6,
   "metadata": {},
   "outputs": [],
   "source": [
    "num_round = 1000"
   ]
  },
  {
   "cell_type": "code",
   "execution_count": 7,
   "metadata": {},
   "outputs": [],
   "source": [
    "cate_feature = ['A1','A2','A3','B1','B2','B3','C1','C2','C3','E2','E3','E5','E7','E9','E10','E13','E16','E17','E19','E21','E22']\n",
    "for item in cate_feature:\n",
    "    data[item] = LabelEncoder().fit_transform(data[item])"
   ]
  },
  {
   "cell_type": "code",
   "execution_count": 8,
   "metadata": {},
   "outputs": [],
   "source": [
    "train = data[data['label'] != -1]\n",
    "test = data[data['label'] == -1]"
   ]
  },
  {
   "cell_type": "markdown",
   "metadata": {},
   "source": [
    "# 特征工程"
   ]
  },
  {
   "cell_type": "code",
   "execution_count": 9,
   "metadata": {},
   "outputs": [],
   "source": [
    "def get_base_fe(df):\n",
    "    df['day'] = df.date.apply(lambda x:int(x[8:10]))\n",
    "    df['time'] = pd.to_datetime(df['date'])\n",
    "    timedelta = df['time'] - pd.datetime(df['time'].dt.year[0],df['time'].dt.month[0],df['time'].dt.day[0],0,0,0)\n",
    "\n",
    "    df['hour'] = df.date.apply(lambda x:int(x[11:13]))\n",
    "    df['ten_min'] = timedelta.dt.seconds/600\n",
    "    df['ten_min'] = df['ten_min'].astype(int)\n",
    "    del df['time']\n",
    "    return df"
   ]
  },
  {
   "cell_type": "code",
   "execution_count": 10,
   "metadata": {},
   "outputs": [],
   "source": [
    "def get_more_fe(df):\n",
    "    uniq_list = ['C1','E14','A2','E1','E27']\n",
    "    for i in uniq_list:\n",
    "        tmp = df.groupby(['hour'])[i].nunique().reset_index(name = i+'_h_uniq')\n",
    "        df  = df.merge(tmp, on=['hour'], how='left')\n",
    "        tmp1 = df.groupby(['date'])[i].nunique().reset_index(name = i+'_d_uniq')\n",
    "        df  = df.merge(tmp1, on=['date'], how='left')\n",
    "    dev_list = ['D1','D2']\n",
    "    for i in dev_list:\n",
    "        tmp = df.groupby(['C1'])[i].nunique().reset_index(name = i+'_C1_de_uniq')\n",
    "        df  = df.merge(tmp, on=['C1'], how='left')\n",
    "        tmp1 = df.groupby(['C2'])[i].nunique().reset_index(name = i+'_C2_de_uniq')\n",
    "        df  = df.merge(tmp1, on=['C2'], how='left')\n",
    "        tmp2 = df.groupby(['C3'])[i].nunique().reset_index(name = i+'_C3_de_uniq')\n",
    "        df  = df.merge(tmp2, on=['C3'], how='left')\n",
    "    return df"
   ]
  },
  {
   "cell_type": "code",
   "execution_count": null,
   "metadata": {},
   "outputs": [],
   "source": []
  },
  {
   "cell_type": "code",
   "execution_count": 11,
   "metadata": {},
   "outputs": [],
   "source": [
    "train_df = get_base_fe(train)\n",
    "test_df = get_base_fe(test)"
   ]
  },
  {
   "cell_type": "code",
   "execution_count": 12,
   "metadata": {},
   "outputs": [],
   "source": [
    "# train_df = get_more_fe(train_df)\n",
    "# test_df = get_more_fe(test_df)"
   ]
  },
  {
   "cell_type": "code",
   "execution_count": 13,
   "metadata": {},
   "outputs": [
    {
     "data": {
      "text/plain": [
       "(40000, 46)"
      ]
     },
     "execution_count": 13,
     "metadata": {},
     "output_type": "execute_result"
    }
   ],
   "source": [
    "test_df.shape"
   ]
  },
  {
   "cell_type": "code",
   "execution_count": 14,
   "metadata": {},
   "outputs": [
    {
     "data": {
      "text/plain": [
       "(60000, 46)"
      ]
     },
     "execution_count": 14,
     "metadata": {},
     "output_type": "execute_result"
    }
   ],
   "source": [
    "train_df.shape"
   ]
  },
  {
   "cell_type": "markdown",
   "metadata": {},
   "source": [
    "# 删除不需要的字段"
   ]
  },
  {
   "cell_type": "code",
   "execution_count": 15,
   "metadata": {},
   "outputs": [],
   "source": [
    "## get train feature\n",
    "del_feature = ['ID','day','date','label','D2']\n",
    "features = [i for i in train_df.columns if i not in del_feature]"
   ]
  },
  {
   "cell_type": "code",
   "execution_count": 16,
   "metadata": {},
   "outputs": [],
   "source": [
    "train_x = train_df[features]\n",
    "train_y = train_df['label'].values\n",
    "test = test_df[features]"
   ]
  },
  {
   "cell_type": "markdown",
   "metadata": {},
   "source": [
    "# 训练参数的选取"
   ]
  },
  {
   "cell_type": "code",
   "execution_count": 17,
   "metadata": {},
   "outputs": [],
   "source": [
    "params = {'num_leaves': 60,\n",
    "          'min_data_in_leaf': 30,\n",
    "          'objective': 'binary',\n",
    "          'max_depth': -1,\n",
    "          'learning_rate': 0.02,\n",
    "          \"min_sum_hessian_in_leaf\": 6,\n",
    "          \"boosting\": \"gbdt\",\n",
    "          \"feature_fraction\": 0.9,\n",
    "          \"bagging_freq\": 1,\n",
    "          \"bagging_fraction\": 0.8,\n",
    "          \"bagging_seed\": 11,\n",
    "          \"lambda_l1\": 0.1,\n",
    "          # 'lambda_l2': 0.001,\n",
    "          \"verbosity\": -1,\n",
    "          \"nthread\": -1,\n",
    "          'metric': {'binary_logloss', 'auc'},\n",
    "          \"random_state\": 2019,\n",
    "          # 'device': 'gpu'\n",
    "          }"
   ]
  },
  {
   "cell_type": "markdown",
   "metadata": {},
   "source": [
    "# 五折交叉"
   ]
  },
  {
   "cell_type": "code",
   "execution_count": 27,
   "metadata": {},
   "outputs": [],
   "source": [
    "folds = KFold(n_splits=5, shuffle=True, random_state=2048)\n",
    "prob_oof = np.zeros((train_x.shape[0], ))\n",
    "test_pred_prob = np.zeros((test.shape[0], ))"
   ]
  },
  {
   "cell_type": "code",
   "execution_count": 28,
   "metadata": {},
   "outputs": [
    {
     "name": "stdout",
     "output_type": "stream",
     "text": [
      "fold 1\n",
      "Training until validation scores don't improve for 60 rounds.\n",
      "Early stopping, best iteration is:\n",
      "[101]\ttraining's binary_logloss: 0.386628\ttraining's auc: 0.787057\tvalid_1's binary_logloss: 0.413078\tvalid_1's auc: 0.722999\n",
      "fold 2\n",
      "Training until validation scores don't improve for 60 rounds.\n",
      "Early stopping, best iteration is:\n",
      "[100]\ttraining's binary_logloss: 0.387442\ttraining's auc: 0.784328\tvalid_1's binary_logloss: 0.41068\tvalid_1's auc: 0.738138\n",
      "fold 3\n",
      "Training until validation scores don't improve for 60 rounds.\n",
      "Early stopping, best iteration is:\n",
      "[127]\ttraining's binary_logloss: 0.382975\ttraining's auc: 0.792658\tvalid_1's binary_logloss: 0.403717\tvalid_1's auc: 0.726723\n",
      "fold 4\n",
      "Training until validation scores don't improve for 60 rounds.\n",
      "Early stopping, best iteration is:\n",
      "[114]\ttraining's binary_logloss: 0.382545\ttraining's auc: 0.791774\tvalid_1's binary_logloss: 0.415692\tvalid_1's auc: 0.719348\n",
      "fold 5\n",
      "Training until validation scores don't improve for 60 rounds.\n",
      "Early stopping, best iteration is:\n",
      "[70]\ttraining's binary_logloss: 0.397076\ttraining's auc: 0.778037\tvalid_1's binary_logloss: 0.410808\tvalid_1's auc: 0.715377\n"
     ]
    }
   ],
   "source": [
    "feature_importance_df = pd.DataFrame()\n",
    "for fold_, (trn_idx, val_idx) in enumerate(folds.split(train_df)):\n",
    "    print(\"fold {}\".format(fold_ + 1))\n",
    "    trn_data = lgb.Dataset(train_x.iloc[trn_idx], label=train_y[trn_idx])\n",
    "    val_data = lgb.Dataset(train_x.iloc[val_idx], label=train_y[val_idx])\n",
    "\n",
    "\n",
    "    clf = lgb.train(params,\n",
    "                    trn_data,\n",
    "                    num_round,\n",
    "                    valid_sets=[trn_data, val_data],\n",
    "                    verbose_eval=200,\n",
    "                    categorical_feature=cate_feature,\n",
    "                    early_stopping_rounds=60)\n",
    "    prob_oof[val_idx] = clf.predict(train_x.iloc[val_idx], num_iteration=clf.best_iteration)\n",
    "\n",
    "    fold_importance_df = pd.DataFrame()\n",
    "    fold_importance_df[\"Feature\"] = features\n",
    "    fold_importance_df[\"importance\"] = clf.feature_importance()\n",
    "    fold_importance_df[\"fold\"] = fold_ + 1\n",
    "    feature_importance_df = pd.concat([feature_importance_df, fold_importance_df], axis=0)\n",
    "\n",
    "    test_pred_prob += clf.predict(test[features], num_iteration=clf.best_iteration) / folds.n_splits"
   ]
  },
  {
   "cell_type": "markdown",
   "metadata": {},
   "source": [
    "# roc评估"
   ]
  },
  {
   "cell_type": "code",
   "execution_count": 36,
   "metadata": {},
   "outputs": [
    {
     "data": {
      "text/plain": [
       "0.7240938836971511"
      ]
     },
     "execution_count": 36,
     "metadata": {},
     "output_type": "execute_result"
    }
   ],
   "source": [
    "score=roc_auc_score(train_y,prob_oof)\n",
    "score"
   ]
  },
  {
   "cell_type": "code",
   "execution_count": 30,
   "metadata": {},
   "outputs": [],
   "source": [
    "sub['label'] = test_pred_prob"
   ]
  },
  {
   "cell_type": "code",
   "execution_count": 31,
   "metadata": {},
   "outputs": [],
   "source": [
    "sub.loc[sub.label<=0.15,'label'] = 0\n",
    "sub.loc[sub.label>0.15,'label'] = 1"
   ]
  },
  {
   "cell_type": "code",
   "execution_count": 32,
   "metadata": {},
   "outputs": [
    {
     "data": {
      "text/plain": [
       "0    49756\n",
       "1    10244\n",
       "Name: label, dtype: int64"
      ]
     },
     "execution_count": 32,
     "metadata": {},
     "output_type": "execute_result"
    }
   ],
   "source": [
    "label.label.value_counts()"
   ]
  },
  {
   "cell_type": "code",
   "execution_count": 33,
   "metadata": {},
   "outputs": [
    {
     "data": {
      "text/plain": [
       "1.0    20314\n",
       "0.0    19686\n",
       "Name: label, dtype: int64"
      ]
     },
     "execution_count": 33,
     "metadata": {},
     "output_type": "execute_result"
    }
   ],
   "source": [
    "sub.label.value_counts()"
   ]
  },
  {
   "cell_type": "code",
   "execution_count": 39,
   "metadata": {},
   "outputs": [
    {
     "ename": "SyntaxError",
     "evalue": "invalid syntax (<ipython-input-39-84d0b6e25819>, line 1)",
     "output_type": "error",
     "traceback": [
      "\u001b[1;36m  File \u001b[1;32m\"<ipython-input-39-84d0b6e25819>\"\u001b[1;36m, line \u001b[1;32m1\u001b[0m\n\u001b[1;33m    sub.to_csv('C:/Users/DELL/Desktop/sub/'+str(socore%.2f)+'.csv',encoding='utf-8',index=False)\u001b[0m\n\u001b[1;37m                                                         ^\u001b[0m\n\u001b[1;31mSyntaxError\u001b[0m\u001b[1;31m:\u001b[0m invalid syntax\n"
     ]
    }
   ],
   "source": [
    "sub.to_csv('C:/Users/DELL/Desktop/sub/'+str(socore%.2f)+'.csv',encoding='utf-8',index=False)"
   ]
  },
  {
   "cell_type": "markdown",
   "metadata": {},
   "source": [
    "# feature_importance展示"
   ]
  },
  {
   "cell_type": "code",
   "execution_count": 26,
   "metadata": {},
   "outputs": [
    {
     "data": {
      "image/png": "[encoded data removed]",
      "text/plain": [
       "<Figure size 576x1008 with 1 Axes>"
      ]
     },
     "metadata": {},
     "output_type": "display_data"
    }
   ],
   "source": [
    "## plot feature importance\n",
    "cols = (feature_importance_df[[\"Feature\", \"importance\"]].groupby(\"Feature\").mean().sort_values(by=\"importance\", ascending=False)[:].index)\n",
    "best_features = feature_importance_df.loc[feature_importance_df.Feature.isin(cols)].sort_values(by='importance',ascending=False)\n",
    "plt.figure(figsize=(8, 14))\n",
    "sns.barplot(y=\"Feature\",\n",
    "            x=\"importance\",\n",
    "            data=best_features.sort_values(by=\"importance\", ascending=False))\n",
    "plt.title('LightGBM Features (avg over folds)')\n",
    "plt.tight_layout()"
   ]
  },
  {
   "cell_type": "code",
   "execution_count": null,
   "metadata": {},
   "outputs": [],
   "source": []
  }
 ],
 "metadata": {
  "kernelspec": {
   "display_name": "Python 3",
   "language": "python",
   "name": "python3"
  },
  "language_info": {
   "codemirror_mode": {
    "name": "ipython",
    "version": 3
   },
   "file_extension": ".py",
   "mimetype": "text/x-python",
   "name": "python",
   "nbconvert_exporter": "python",
   "pygments_lexer": "ipython3",
   "version": "3.6.5"
  }
 },
 "nbformat": 4,
 "nbformat_minor": 2
}
